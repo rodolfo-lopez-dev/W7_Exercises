{
 "cells": [
  {
   "cell_type": "code",
   "execution_count": 1,
   "id": "a0370645-4c66-4895-b25e-858e06ecde5b",
   "metadata": {},
   "outputs": [],
   "source": [
    "import numpy as np\n",
    "import pandas as pd"
   ]
  },
  {
   "cell_type": "code",
   "execution_count": 2,
   "id": "d60f700d-8777-46b5-b83b-a01d5c6e4ed3",
   "metadata": {},
   "outputs": [],
   "source": [
    "df = pd.read_csv('test_data.csv')"
   ]
  },
  {
   "cell_type": "code",
   "execution_count": 3,
   "id": "780fa4c3-a5a4-47b9-90f8-a94054bfb57e",
   "metadata": {},
   "outputs": [
    {
     "name": "stdout",
     "output_type": "stream",
     "text": [
      "            ID       Age      Score\n",
      "count  8.00000   6.00000   7.000000\n",
      "mean   4.50000  25.00000  66.285714\n",
      "std    2.44949   6.78233  32.576650\n",
      "min    1.00000  18.00000  -1.000000\n",
      "25%    2.75000  19.75000  60.000000\n",
      "50%    4.50000  23.50000  78.000000\n",
      "75%    6.25000  29.50000  87.500000\n",
      "max    8.00000  35.00000  92.000000\n"
     ]
    }
   ],
   "source": [
    "print(df.describe())"
   ]
  },
  {
   "cell_type": "markdown",
   "id": "a396fcb6-d7ca-4c2b-b28a-e95d4807760a",
   "metadata": {},
   "source": [
    "## Finding a DataFrame"
   ]
  },
  {
   "cell_type": "code",
   "execution_count": 4,
   "id": "86581dbe-1df6-44a4-b139-ebf8ed7b184f",
   "metadata": {},
   "outputs": [
    {
     "name": "stdout",
     "output_type": "stream",
     "text": [
      "   ID     Name   Age     City  Score\n",
      "0   1   Alicia  25.0       NY   85.0\n",
      "2   3  Charlie  22.0  Chicago   -1.0\n",
      "3   4  Dominic  19.0  Houston   65.0\n",
      "4   5      Eve  31.0  Phoenix   78.0\n",
      "5   6    Frank  35.0   Boston    NaN\n"
     ]
    }
   ],
   "source": [
    "age = df[df['Age'] > 18]\n",
    "print(age)"
   ]
  },
  {
   "cell_type": "code",
   "execution_count": 6,
   "id": "fcb54ba8-179c-4e32-b2d3-cf76e19c2e8b",
   "metadata": {},
   "outputs": [
    {
     "name": "stdout",
     "output_type": "stream",
     "text": [
      "   ID     Name   Age       City  Score\n",
      "0   1   Alicia  25.0         NY   85.0\n",
      "1   2      Bob   NaN         LA   92.0\n",
      "3   4  Dominic  19.0    Houston   65.0\n",
      "4   5      Eve  31.0    Phoenix   78.0\n",
      "6   7    Grace   NaN     Austin   55.0\n",
      "7   8    Heidi  18.0  San Diego   90.0\n"
     ]
    }
   ],
   "source": [
    "score = df[(df['Score'] > 50) & (df['Score'] < 100)]\n",
    "print(score)"
   ]
  },
  {
   "cell_type": "markdown",
   "id": "32758eb4-fe1e-4405-bfce-ecdf51f6436b",
   "metadata": {},
   "source": [
    "## Modifying a DataFrame"
   ]
  },
  {
   "cell_type": "code",
   "execution_count": 7,
   "id": "99373a26-cda4-44ab-be9f-0a7134dc0677",
   "metadata": {},
   "outputs": [
    {
     "name": "stdout",
     "output_type": "stream",
     "text": [
      "   ID     Name   Age       City  Score\n",
      "0   1   Alicia  25.0         NY   85.0\n",
      "1   2      Bob   NaN         LA   92.0\n",
      "3   4  Dominic  19.0    Houston   65.0\n",
      "4   5      Eve  31.0    Phoenix   78.0\n",
      "6   7    Grace   NaN     Austin   55.0\n",
      "7   8    Heidi  18.0  San Diego   90.0\n"
     ]
    }
   ],
   "source": [
    "df_cleaned = df[df['Score'] >= 0]\n",
    "print(df_cleaned)"
   ]
  },
  {
   "cell_type": "code",
   "execution_count": 10,
   "id": "bdfc1fee-f67d-47ba-bdea-62278dc9371a",
   "metadata": {},
   "outputs": [
    {
     "name": "stdout",
     "output_type": "stream",
     "text": [
      "   ID     Name   Age  Score\n",
      "0   1   Alicia  25.0   85.0\n",
      "1   2      Bob   NaN   92.0\n",
      "3   4  Dominic  19.0   65.0\n",
      "4   5      Eve  31.0   78.0\n",
      "6   7    Grace   NaN   55.0\n",
      "7   8    Heidi  18.0   90.0\n"
     ]
    }
   ],
   "source": [
    "df_cleaned = df_cleaned.drop(columns=['City'])\n",
    "print(df_cleaned)"
   ]
  },
  {
   "cell_type": "code",
   "execution_count": 11,
   "id": "70578d01-4631-4475-b7d4-2d82fcf31fa3",
   "metadata": {},
   "outputs": [
    {
     "name": "stdout",
     "output_type": "stream",
     "text": [
      "   ID     Name    Age  Score\n",
      "0   1   Alicia  25.00   85.0\n",
      "1   2      Bob  23.25   92.0\n",
      "3   4  Dominic  19.00   65.0\n",
      "4   5      Eve  31.00   78.0\n",
      "6   7    Grace  23.25   55.0\n",
      "7   8    Heidi  18.00   90.0\n"
     ]
    }
   ],
   "source": [
    "df_cleaned['Age'] = df_cleaned['Age'].fillna(df_cleaned['Age'].mean())\n",
    "print(df_cleaned)\n"
   ]
  },
  {
   "cell_type": "code",
   "execution_count": 12,
   "id": "eadb87e4-c3af-44ec-9c97-30fe342fb670",
   "metadata": {},
   "outputs": [
    {
     "name": "stdout",
     "output_type": "stream",
     "text": [
      "   ID     Name    Age  Score\n",
      "0   1   Alicia  25.00   85.0\n",
      "1   2      Bob  23.25   92.0\n",
      "3   4  Dominic  19.00   65.0\n",
      "4   5      Eve  31.00   78.0\n",
      "6   7    Grace  23.25   55.0\n",
      "7   8    Heidi  18.00   90.0\n"
     ]
    }
   ],
   "source": [
    "df_cleaned['Score'] = df_cleaned['Score'].replace(0, df_cleaned['Score'].mean())\n",
    "print(df_cleaned)\n"
   ]
  },
  {
   "cell_type": "code",
   "execution_count": 13,
   "id": "020e2876-6165-481f-80ac-ed2b6b030f67",
   "metadata": {},
   "outputs": [
    {
     "name": "stdout",
     "output_type": "stream",
     "text": [
      "   ID     Name    Age  Score\n",
      "0   1   Alicia  25.00   85.0\n",
      "1   2      Bob  23.25   92.0\n",
      "3   4  Dominic  19.00   65.0\n",
      "4   5      Eve  31.00   78.0\n",
      "6   7    Grace  23.25   55.0\n",
      "7   8    Heidi  18.00   90.0\n"
     ]
    }
   ],
   "source": [
    "df_cleaned = df_cleaned.dropna()\n",
    "print(df_cleaned)\n"
   ]
  },
  {
   "cell_type": "code",
   "execution_count": 14,
   "id": "65885e3b-a2ff-44bf-846c-4245f6ea8b8c",
   "metadata": {},
   "outputs": [
    {
     "name": "stdout",
     "output_type": "stream",
     "text": [
      "       Name    Age  Score\n",
      "ID                       \n",
      "1    Alicia  25.00   85.0\n",
      "2       Bob  23.25   92.0\n",
      "4   Dominic  19.00   65.0\n",
      "5       Eve  31.00   78.0\n",
      "7     Grace  23.25   55.0\n",
      "8     Heidi  18.00   90.0\n"
     ]
    }
   ],
   "source": [
    "df_cleaned.set_index('ID', inplace=True)\n",
    "print(df_cleaned)\n"
   ]
  },
  {
   "cell_type": "code",
   "execution_count": null,
   "id": "42b1d113-fdcf-4c4a-9ff8-0d65a07d0d48",
   "metadata": {},
   "outputs": [],
   "source": []
  }
 ],
 "metadata": {
  "kernelspec": {
   "display_name": "Python 3 (ipykernel)",
   "language": "python",
   "name": "python3"
  },
  "language_info": {
   "codemirror_mode": {
    "name": "ipython",
    "version": 3
   },
   "file_extension": ".py",
   "mimetype": "text/x-python",
   "name": "python",
   "nbconvert_exporter": "python",
   "pygments_lexer": "ipython3",
   "version": "3.13.0"
  }
 },
 "nbformat": 4,
 "nbformat_minor": 5
}
