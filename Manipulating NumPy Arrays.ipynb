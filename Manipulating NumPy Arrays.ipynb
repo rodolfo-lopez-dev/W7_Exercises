{
 "cells": [
  {
   "cell_type": "code",
   "execution_count": 4,
   "id": "bdc1c2cb-55eb-4ba0-934a-36ab5913653b",
   "metadata": {},
   "outputs": [],
   "source": [
    "import numpy as np"
   ]
  },
  {
   "cell_type": "markdown",
   "id": "1844d664-58df-4c9e-923b-b0d35c0421ce",
   "metadata": {},
   "source": [
    "# Looping Through Arrrays"
   ]
  },
  {
   "cell_type": "code",
   "execution_count": 5,
   "id": "c648c071-d2f8-44ea-85ff-d3d21e23075e",
   "metadata": {},
   "outputs": [
    {
     "name": "stdout",
     "output_type": "stream",
     "text": [
      "[[11 12 13]\n",
      " [14 15 16]]\n"
     ]
    }
   ],
   "source": [
    "arrA = np.array([[11, 12, 13], [14, 15, 16]])\n",
    "print(arrA)"
   ]
  },
  {
   "cell_type": "code",
   "execution_count": 6,
   "id": "5bc78c47-0dfe-4ea6-a940-788cd9bea124",
   "metadata": {},
   "outputs": [
    {
     "name": "stdout",
     "output_type": "stream",
     "text": [
      "[22 24 26]\n",
      "[28 30 32]\n"
     ]
    }
   ],
   "source": [
    "for x in arrA: # looping through first row\n",
    "    print(x * 2) # multiply each row by 2"
   ]
  },
  {
   "cell_type": "code",
   "execution_count": 7,
   "id": "dbbda8d4-3875-4ea3-b7f4-5a782282ccc7",
   "metadata": {},
   "outputs": [
    {
     "name": "stdout",
     "output_type": "stream",
     "text": [
      "22\n",
      "24\n",
      "26\n",
      "28\n",
      "30\n",
      "32\n"
     ]
    }
   ],
   "source": [
    "# doubling each individual number one by one \n",
    "for x in arrA: \n",
    "    for y in x: \n",
    "        print(y * 2)"
   ]
  },
  {
   "cell_type": "markdown",
   "id": "d6cd08dc-e97c-47db-8467-318afe077baf",
   "metadata": {},
   "source": [
    "### Difference Between Loops\n",
    "- first loop multiplies each row by 2\n",
    "- second loop doubles each values one by one "
   ]
  },
  {
   "cell_type": "code",
   "execution_count": 8,
   "id": "75e79675-0ab4-471c-a0be-69a1fef04530",
   "metadata": {},
   "outputs": [
    {
     "name": "stdout",
     "output_type": "stream",
     "text": [
      "[22, 24, 26, 28, 30, 32]\n"
     ]
    }
   ],
   "source": [
    "loop_result = []\n",
    "\n",
    "for x in arrA:\n",
    "    for y in x:\n",
    "        loop_result.append(int(y * 2)) # used int to remove int type \n",
    "print(loop_result) # printing a list like doubled values"
   ]
  },
  {
   "cell_type": "markdown",
   "id": "8e2921be-7fee-448a-a447-08f4bd3662a2",
   "metadata": {},
   "source": [
    "# Joining and Stacking Arrays"
   ]
  },
  {
   "cell_type": "code",
   "execution_count": 9,
   "id": "92616b6a-8b11-4fd8-87d6-1edcb8414240",
   "metadata": {},
   "outputs": [
    {
     "name": "stdout",
     "output_type": "stream",
     "text": [
      "[[11 12 13]\n",
      " [14 15 16]\n",
      " [11 12 13]\n",
      " [14 15 16]]\n"
     ]
    }
   ],
   "source": [
    "joined_array_1 = np.concatenate((arrA, arrA), axis = 0)\n",
    "print(joined_array_1)"
   ]
  },
  {
   "cell_type": "code",
   "execution_count": 10,
   "id": "d05fbec1-e6c4-436b-87c8-07749a4b2af2",
   "metadata": {},
   "outputs": [
    {
     "name": "stdout",
     "output_type": "stream",
     "text": [
      "[[11 12 13 11 12 13]\n",
      " [14 15 16 14 15 16]]\n"
     ]
    }
   ],
   "source": [
    "joined_array_2 = np.concatenate((arrA, arrA), axis = 1)\n",
    "print(joined_array_2)"
   ]
  },
  {
   "cell_type": "code",
   "execution_count": 11,
   "id": "459b1b28-c468-4e26-bd3f-99f93cea8fac",
   "metadata": {},
   "outputs": [
    {
     "name": "stdout",
     "output_type": "stream",
     "text": [
      "[[[11 12 13]\n",
      "  [14 15 16]\n",
      "  [11 12 13]\n",
      "  [14 15 16]]\n",
      "\n",
      " [[11 12 13]\n",
      "  [14 15 16]\n",
      "  [11 12 13]\n",
      "  [14 15 16]]]\n"
     ]
    }
   ],
   "source": [
    "stacked_array_1 = np.stack((joined_array_1, joined_array_1))\n",
    "print(stacked_array_1)"
   ]
  },
  {
   "cell_type": "code",
   "execution_count": 12,
   "id": "e57ffe22-c420-4ee5-9c24-1f10cc81bfe1",
   "metadata": {},
   "outputs": [
    {
     "name": "stdout",
     "output_type": "stream",
     "text": [
      "Error: all input arrays must have the same shape\n"
     ]
    }
   ],
   "source": [
    "try:\n",
    "    stacked_array_2 = np.stack((joined_array_1, joined_array_2))\n",
    "    print(stacked_array_2)\n",
    "except ValueError as c:\n",
    "    print(\"Error:\", c)"
   ]
  },
  {
   "cell_type": "markdown",
   "id": "4b9062b7-25f9-4354-b4cc-2533447f9f00",
   "metadata": {},
   "source": [
    "### Why it's an error\n",
    "The shapes of both arrays are different, joined array has a shape of (4,3) and joined array has a shape of (2,6) demonstrating they are not compatible"
   ]
  },
  {
   "cell_type": "code",
   "execution_count": 13,
   "id": "8dbf4061-fd75-4d02-904c-68a33082976d",
   "metadata": {},
   "outputs": [
    {
     "name": "stdout",
     "output_type": "stream",
     "text": [
      "[[[11 12 13]\n",
      "  [14 15 16]]\n",
      "\n",
      " [[11 12 13]\n",
      "  [14 15 16]]]\n"
     ]
    }
   ],
   "source": [
    "# hstack will focus on horizontal arrays\n",
    "# vstack will focus on vertical arrays\n",
    "# dstack will focus on creating 3D arrays\n",
    "\n",
    "h_stack = np.stack((arrA, arrA))\n",
    "print(h_stack)\n",
    "\n",
    "# stacking the array side by side\n"
   ]
  },
  {
   "cell_type": "code",
   "execution_count": 14,
   "id": "f125983a-5774-48ed-bf06-015530a0c34b",
   "metadata": {},
   "outputs": [
    {
     "name": "stdout",
     "output_type": "stream",
     "text": [
      "[[11 12 13]\n",
      " [14 15 16]\n",
      " [11 12 13]\n",
      " [14 15 16]]\n"
     ]
    }
   ],
   "source": [
    "v_stack = np.vstack((arrA, arrA))\n",
    "print(v_stack)\n",
    "\n",
    "# stacking the array vertically and adding rows"
   ]
  },
  {
   "cell_type": "code",
   "execution_count": 15,
   "id": "029220ed-5052-4fa4-aa2a-e28f24e860fe",
   "metadata": {},
   "outputs": [
    {
     "name": "stdout",
     "output_type": "stream",
     "text": [
      "[[[11 11]\n",
      "  [12 12]\n",
      "  [13 13]]\n",
      "\n",
      " [[14 14]\n",
      "  [15 15]\n",
      "  [16 16]]]\n"
     ]
    }
   ],
   "source": [
    "d_stack = np.dstack((arrA, arrA))\n",
    "print(d_stack)\n",
    "\n",
    "# creating new dimension in the array by using a stacking on itslef method "
   ]
  },
  {
   "cell_type": "markdown",
   "id": "0aab13e4-4409-40d4-a59f-4e21a965c492",
   "metadata": {},
   "source": [
    "# Splitting Arrays"
   ]
  },
  {
   "cell_type": "code",
   "execution_count": 16,
   "id": "8c866466-6fe9-4977-a9f4-75aa7a2f05be",
   "metadata": {
    "jupyter": {
     "source_hidden": true
    }
   },
   "outputs": [
    {
     "name": "stdout",
     "output_type": "stream",
     "text": [
      "[array([[11, 12, 13],\n",
      "       [14, 15, 16]]), array([[11, 12, 13],\n",
      "       [14, 15, 16]])]\n"
     ]
    }
   ],
   "source": [
    "splitsky = np.array_split(joined_array_1, 2)\n",
    "print(splitsky) "
   ]
  },
  {
   "cell_type": "code",
   "execution_count": 17,
   "id": "8d3eb1c7-d01a-4338-bb3d-5f5cd147a2b2",
   "metadata": {},
   "outputs": [
    {
     "name": "stdout",
     "output_type": "stream",
     "text": [
      "[array([[11, 12, 13],\n",
      "       [14, 15, 16]]), array([[11, 12, 13]]), array([[14, 15, 16]])]\n"
     ]
    }
   ],
   "source": [
    "sliterino = np.array_split(joined_array_1, 3)\n",
    "print(sliterino) # the array moves into three seperate part and the second and third are horiztonal"
   ]
  },
  {
   "cell_type": "markdown",
   "id": "0ad08c75-dfe0-4f96-8ab9-98c69b08feca",
   "metadata": {},
   "source": [
    "# Searching and Replacing Array Values"
   ]
  },
  {
   "cell_type": "code",
   "execution_count": 18,
   "id": "d5bb55d9-0e80-4cf3-92e2-0363d5600238",
   "metadata": {},
   "outputs": [
    {
     "name": "stdout",
     "output_type": "stream",
     "text": [
      "[['odd' '12' 'odd']\n",
      " ['14' 'odd' '16']]\n"
     ]
    }
   ],
   "source": [
    "result_1 = np.where(arrA % 2 == 0, arrA, 'odd') # replacing any odd numbers with 'odd' string\n",
    "print(result_1)\n"
   ]
  },
  {
   "cell_type": "markdown",
   "id": "d85c9a5a-6581-4904-80a9-7eeb2ecde1b8",
   "metadata": {},
   "source": [
    "# Sorting and Filtering Arrays"
   ]
  },
  {
   "cell_type": "code",
   "execution_count": 22,
   "id": "b6e0320e-b5d1-4328-8799-ff51d770109d",
   "metadata": {},
   "outputs": [
    {
     "name": "stdout",
     "output_type": "stream",
     "text": [
      "[[ 6  7]\n",
      " [ 5 13]\n",
      " [ 3  7]]\n"
     ]
    }
   ],
   "source": [
    "# using 2D arrays to sort the includded values\n",
    "arrB = np.array([[7, 6], [13, 5], [7, 3]])\n",
    "arrB_sorted = np.sort(arrB)\n",
    "print(arrB_sorted)\n"
   ]
  },
  {
   "cell_type": "code",
   "execution_count": 23,
   "id": "9503b586-c444-422d-bc92-1f1b2e2ce286",
   "metadata": {},
   "outputs": [
    {
     "name": "stdout",
     "output_type": "stream",
     "text": [
      "[6 5 3]\n"
     ]
    }
   ],
   "source": [
    "# filtering values less than 7 \n",
    "z = arrB < 7\n",
    "arrC = arrB[z]\n",
    "print(arrC)"
   ]
  },
  {
   "cell_type": "code",
   "execution_count": 24,
   "id": "aa2b916a-871d-46ca-a114-88e908fd7801",
   "metadata": {},
   "outputs": [
    {
     "name": "stdout",
     "output_type": "stream",
     "text": [
      "[ 7 13  7]\n"
     ]
    }
   ],
   "source": [
    "# filtering values greater than 7 \n",
    "y = arrB >= 7\n",
    "arrD = arrB[y]\n",
    "print(arrD)"
   ]
  },
  {
   "cell_type": "code",
   "execution_count": null,
   "id": "4af753ca-a04a-4580-a89c-5029a9c0e2de",
   "metadata": {},
   "outputs": [],
   "source": []
  }
 ],
 "metadata": {
  "kernelspec": {
   "display_name": "Python 3 (ipykernel)",
   "language": "python",
   "name": "python3"
  },
  "language_info": {
   "codemirror_mode": {
    "name": "ipython",
    "version": 3
   },
   "file_extension": ".py",
   "mimetype": "text/x-python",
   "name": "python",
   "nbconvert_exporter": "python",
   "pygments_lexer": "ipython3",
   "version": "3.13.0"
  }
 },
 "nbformat": 4,
 "nbformat_minor": 5
}
