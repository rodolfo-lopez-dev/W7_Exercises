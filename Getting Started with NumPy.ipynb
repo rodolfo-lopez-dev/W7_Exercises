{
 "cells": [
  {
   "cell_type": "code",
   "execution_count": 5,
   "id": "9a7995e7-9c0d-42e0-aecb-c399a7a61625",
   "metadata": {},
   "outputs": [],
   "source": [
    "import numpy as np"
   ]
  },
  {
   "cell_type": "markdown",
   "id": "5868188e-b6ca-403a-8507-cf9a4e7a545d",
   "metadata": {},
   "source": [
    "# Array Basics"
   ]
  },
  {
   "cell_type": "code",
   "execution_count": 6,
   "id": "f482c85f-c725-47ac-84f6-9b231bb2e5f5",
   "metadata": {},
   "outputs": [],
   "source": [
    "fruits = ['apple','banana','cherry','date']"
   ]
  },
  {
   "cell_type": "code",
   "execution_count": 7,
   "id": "8978a2f2-55fd-4a7c-acb0-3c5f29ae1c1c",
   "metadata": {},
   "outputs": [
    {
     "name": "stdout",
     "output_type": "stream",
     "text": [
      "['apple' 'banana' 'cherry' 'date']\n"
     ]
    }
   ],
   "source": [
    "arr_1 = np.array(fruits)\n",
    "print(arr_1)"
   ]
  },
  {
   "cell_type": "code",
   "execution_count": 8,
   "id": "993f6210-f338-48db-a0e4-38869dc9ecc7",
   "metadata": {},
   "outputs": [
    {
     "name": "stdout",
     "output_type": "stream",
     "text": [
      "<U6\n"
     ]
    }
   ],
   "source": [
    "print(arr_1.dtype) # Output was <U6; suggests the string is apart 6 characters"
   ]
  },
  {
   "cell_type": "code",
   "execution_count": 9,
   "id": "b324b569-0e84-4746-90bf-e70d5be77bd0",
   "metadata": {},
   "outputs": [
    {
     "name": "stdout",
     "output_type": "stream",
     "text": [
      "[[10 11 12]\n",
      " [13 14 15]]\n"
     ]
    }
   ],
   "source": [
    "arr_2 = np.array([[10, 11, 12], [13, 14, 15]])\n",
    "print(arr_2)"
   ]
  },
  {
   "cell_type": "code",
   "execution_count": 12,
   "id": "74c0a542-7c2f-47ef-813d-37b7ea0d1def",
   "metadata": {},
   "outputs": [
    {
     "name": "stdout",
     "output_type": "stream",
     "text": [
      "[[10 13]\n",
      " [11 14]\n",
      " [12 15]]\n"
     ]
    }
   ],
   "source": [
    "print(arr_2.T) # demonstrate dimensions but it does not modify arr_2"
   ]
  },
  {
   "cell_type": "code",
   "execution_count": 13,
   "id": "ef82b5f3-46f1-4771-a4e8-49b4e3ea901f",
   "metadata": {},
   "outputs": [
    {
     "name": "stdout",
     "output_type": "stream",
     "text": [
      "[[1 3 5]\n",
      " [2 4 6]]\n"
     ]
    }
   ],
   "source": [
    "arr_3 = np.array([[1, 3, 5], [2, 4, 6]])\n",
    "print(arr_3)"
   ]
  },
  {
   "cell_type": "code",
   "execution_count": 14,
   "id": "7635bdc7-ce43-492a-8747-cbac4ebd9e01",
   "metadata": {},
   "outputs": [
    {
     "name": "stdout",
     "output_type": "stream",
     "text": [
      "[5 4]\n"
     ]
    }
   ],
   "source": [
    "arr_4 = np.array([arr_3[0, 2], arr_3[1, 1]])\n",
    "print(arr_4)"
   ]
  },
  {
   "cell_type": "code",
   "execution_count": 15,
   "id": "626a98c3-1464-4e9a-8325-08e7a410623e",
   "metadata": {},
   "outputs": [
    {
     "name": "stdout",
     "output_type": "stream",
     "text": [
      "[[[1. 1.]\n",
      "  [1. 1.]]\n",
      "\n",
      " [[1. 1.]\n",
      "  [1. 1.]]]\n"
     ]
    }
   ],
   "source": [
    "arr_5 = np.ones((2, 2, 2)) \n",
    "print(arr_5)"
   ]
  },
  {
   "cell_type": "code",
   "execution_count": null,
   "id": "86367dc2-f753-4bce-9499-de09537a3075",
   "metadata": {},
   "outputs": [],
   "source": []
  }
 ],
 "metadata": {
  "kernelspec": {
   "display_name": "Python 3 (ipykernel)",
   "language": "python",
   "name": "python3"
  },
  "language_info": {
   "codemirror_mode": {
    "name": "ipython",
    "version": 3
   },
   "file_extension": ".py",
   "mimetype": "text/x-python",
   "name": "python",
   "nbconvert_exporter": "python",
   "pygments_lexer": "ipython3",
   "version": "3.13.0"
  }
 },
 "nbformat": 4,
 "nbformat_minor": 5
}
