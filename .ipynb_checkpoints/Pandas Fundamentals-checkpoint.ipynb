{
 "cells": [
  {
   "cell_type": "code",
   "execution_count": 2,
   "id": "f234d84c-85f1-4da1-88bb-e66f19deb4ee",
   "metadata": {},
   "outputs": [],
   "source": [
    "import numpy as np\n",
    "import pandas as pd"
   ]
  },
  {
   "cell_type": "markdown",
   "id": "fd1acefa-14b9-45bb-9ecd-8da8528ea0ed",
   "metadata": {},
   "source": [
    "# Series"
   ]
  },
  {
   "cell_type": "code",
   "execution_count": 3,
   "id": "b124fda4-b35a-400a-8400-27c1399c38c5",
   "metadata": {},
   "outputs": [],
   "source": [
    "# four new vari \n",
    "aa = [1, 2, 3, 4]\n",
    "ab = (5, 6, 7, 8)\n",
    "ac = {9, 10, 11, 12}\n",
    "ad = {'first': 13, 'second': 14, 'third': 15, 'fourth': 16}"
   ]
  },
  {
   "cell_type": "code",
   "execution_count": 4,
   "id": "762e56e6-8fbe-4f5c-a395-65bae942db18",
   "metadata": {},
   "outputs": [],
   "source": [
    "# creating ser and assign to each\n",
    "ser1 = pd.Series(aa)\n",
    "ser2 = pd.Series(ab)\n",
    "ser3 = pd.Series(list(ac))  \n",
    "ser4 = pd.Series(ad)"
   ]
  },
  {
   "cell_type": "code",
   "execution_count": 5,
   "id": "d592f218-dc63-4e5a-8ed3-fb4156812d4a",
   "metadata": {},
   "outputs": [
    {
     "name": "stdout",
     "output_type": "stream",
     "text": [
      "0    1\n",
      "1    2\n",
      "2    3\n",
      "3    4\n",
      "dtype: int64\n",
      "0    5\n",
      "1    6\n",
      "2    7\n",
      "3    8\n",
      "dtype: int64\n",
      "0     9\n",
      "1    10\n",
      "2    11\n",
      "3    12\n",
      "dtype: int64\n",
      "first     13\n",
      "second    14\n",
      "third     15\n",
      "fourth    16\n",
      "dtype: int64\n"
     ]
    }
   ],
   "source": [
    "# Print Series\n",
    "print(ser1)\n",
    "print(ser2)\n",
    "print(ser3)\n",
    "print(ser4)"
   ]
  },
  {
   "cell_type": "code",
   "execution_count": 6,
   "id": "78cceebd-1ae0-47fd-b255-72651a045c4d",
   "metadata": {},
   "outputs": [
    {
     "ename": "TypeError",
     "evalue": "Index(...) must be called with a collection of some kind, 18 was passed",
     "output_type": "error",
     "traceback": [
      "\u001b[1;31m---------------------------------------------------------------------------\u001b[0m",
      "\u001b[1;31mTypeError\u001b[0m                                 Traceback (most recent call last)",
      "Cell \u001b[1;32mIn[6], line 2\u001b[0m\n\u001b[0;32m      1\u001b[0m \u001b[38;5;66;03m# new variable named ser5 for 17-20\u001b[39;00m\n\u001b[1;32m----> 2\u001b[0m ser5 \u001b[38;5;241m=\u001b[39m \u001b[43mpd\u001b[49m\u001b[38;5;241;43m.\u001b[39;49m\u001b[43mSeries\u001b[49m\u001b[43m(\u001b[49m\u001b[38;5;241;43m17\u001b[39;49m\u001b[43m,\u001b[49m\u001b[43m \u001b[49m\u001b[38;5;241;43m18\u001b[39;49m\u001b[43m,\u001b[49m\u001b[43m \u001b[49m\u001b[38;5;241;43m19\u001b[39;49m\u001b[43m,\u001b[49m\u001b[43m \u001b[49m\u001b[38;5;241;43m20\u001b[39;49m\u001b[43m)\u001b[49m\n\u001b[0;32m      3\u001b[0m \u001b[38;5;66;03m#  This caused a TypeError because the function requires keyword arguments for data, index, and data type.\u001b[39;00m\n",
      "File \u001b[1;32m~\\AppData\\Local\\Programs\\Python\\Python313\\Lib\\site-packages\\pandas\\core\\series.py:490\u001b[0m, in \u001b[0;36mSeries.__init__\u001b[1;34m(self, data, index, dtype, name, copy, fastpath)\u001b[0m\n\u001b[0;32m    487\u001b[0m name \u001b[38;5;241m=\u001b[39m ibase\u001b[38;5;241m.\u001b[39mmaybe_extract_name(name, data, \u001b[38;5;28mtype\u001b[39m(\u001b[38;5;28mself\u001b[39m))\n\u001b[0;32m    489\u001b[0m \u001b[38;5;28;01mif\u001b[39;00m index \u001b[38;5;129;01mis\u001b[39;00m \u001b[38;5;129;01mnot\u001b[39;00m \u001b[38;5;28;01mNone\u001b[39;00m:\n\u001b[1;32m--> 490\u001b[0m     index \u001b[38;5;241m=\u001b[39m \u001b[43mensure_index\u001b[49m\u001b[43m(\u001b[49m\u001b[43mindex\u001b[49m\u001b[43m)\u001b[49m\n\u001b[0;32m    492\u001b[0m \u001b[38;5;28;01mif\u001b[39;00m dtype \u001b[38;5;129;01mis\u001b[39;00m \u001b[38;5;129;01mnot\u001b[39;00m \u001b[38;5;28;01mNone\u001b[39;00m:\n\u001b[0;32m    493\u001b[0m     dtype \u001b[38;5;241m=\u001b[39m \u001b[38;5;28mself\u001b[39m\u001b[38;5;241m.\u001b[39m_validate_dtype(dtype)\n",
      "File \u001b[1;32m~\\AppData\\Local\\Programs\\Python\\Python313\\Lib\\site-packages\\pandas\\core\\indexes\\base.py:7649\u001b[0m, in \u001b[0;36mensure_index\u001b[1;34m(index_like, copy)\u001b[0m\n\u001b[0;32m   7647\u001b[0m         \u001b[38;5;28;01mreturn\u001b[39;00m Index(index_like, copy\u001b[38;5;241m=\u001b[39mcopy, tupleize_cols\u001b[38;5;241m=\u001b[39m\u001b[38;5;28;01mFalse\u001b[39;00m)\n\u001b[0;32m   7648\u001b[0m \u001b[38;5;28;01melse\u001b[39;00m:\n\u001b[1;32m-> 7649\u001b[0m     \u001b[38;5;28;01mreturn\u001b[39;00m \u001b[43mIndex\u001b[49m\u001b[43m(\u001b[49m\u001b[43mindex_like\u001b[49m\u001b[43m,\u001b[49m\u001b[43m \u001b[49m\u001b[43mcopy\u001b[49m\u001b[38;5;241;43m=\u001b[39;49m\u001b[43mcopy\u001b[49m\u001b[43m)\u001b[49m\n",
      "File \u001b[1;32m~\\AppData\\Local\\Programs\\Python\\Python313\\Lib\\site-packages\\pandas\\core\\indexes\\base.py:526\u001b[0m, in \u001b[0;36mIndex.__new__\u001b[1;34m(cls, data, dtype, copy, name, tupleize_cols)\u001b[0m\n\u001b[0;32m    523\u001b[0m         data \u001b[38;5;241m=\u001b[39m com\u001b[38;5;241m.\u001b[39masarray_tuplesafe(data, dtype\u001b[38;5;241m=\u001b[39m_dtype_obj)\n\u001b[0;32m    525\u001b[0m \u001b[38;5;28;01melif\u001b[39;00m is_scalar(data):\n\u001b[1;32m--> 526\u001b[0m     \u001b[38;5;28;01mraise\u001b[39;00m \u001b[38;5;28;43mcls\u001b[39;49m\u001b[38;5;241;43m.\u001b[39;49m\u001b[43m_raise_scalar_data_error\u001b[49m\u001b[43m(\u001b[49m\u001b[43mdata\u001b[49m\u001b[43m)\u001b[49m\n\u001b[0;32m    527\u001b[0m \u001b[38;5;28;01melif\u001b[39;00m \u001b[38;5;28mhasattr\u001b[39m(data, \u001b[38;5;124m\"\u001b[39m\u001b[38;5;124m__array__\u001b[39m\u001b[38;5;124m\"\u001b[39m):\n\u001b[0;32m    528\u001b[0m     \u001b[38;5;28;01mreturn\u001b[39;00m \u001b[38;5;28mcls\u001b[39m(np\u001b[38;5;241m.\u001b[39masarray(data), dtype\u001b[38;5;241m=\u001b[39mdtype, copy\u001b[38;5;241m=\u001b[39mcopy, name\u001b[38;5;241m=\u001b[39mname)\n",
      "File \u001b[1;32m~\\AppData\\Local\\Programs\\Python\\Python313\\Lib\\site-packages\\pandas\\core\\indexes\\base.py:5289\u001b[0m, in \u001b[0;36mIndex._raise_scalar_data_error\u001b[1;34m(cls, data)\u001b[0m\n\u001b[0;32m   5284\u001b[0m \u001b[38;5;129m@final\u001b[39m\n\u001b[0;32m   5285\u001b[0m \u001b[38;5;129m@classmethod\u001b[39m\n\u001b[0;32m   5286\u001b[0m \u001b[38;5;28;01mdef\u001b[39;00m \u001b[38;5;21m_raise_scalar_data_error\u001b[39m(\u001b[38;5;28mcls\u001b[39m, data):\n\u001b[0;32m   5287\u001b[0m     \u001b[38;5;66;03m# We return the TypeError so that we can raise it from the constructor\u001b[39;00m\n\u001b[0;32m   5288\u001b[0m     \u001b[38;5;66;03m#  in order to keep mypy happy\u001b[39;00m\n\u001b[1;32m-> 5289\u001b[0m     \u001b[38;5;28;01mraise\u001b[39;00m \u001b[38;5;167;01mTypeError\u001b[39;00m(\n\u001b[0;32m   5290\u001b[0m         \u001b[38;5;124mf\u001b[39m\u001b[38;5;124m\"\u001b[39m\u001b[38;5;132;01m{\u001b[39;00m\u001b[38;5;28mcls\u001b[39m\u001b[38;5;241m.\u001b[39m\u001b[38;5;18m__name__\u001b[39m\u001b[38;5;132;01m}\u001b[39;00m\u001b[38;5;124m(...) must be called with a collection of some \u001b[39m\u001b[38;5;124m\"\u001b[39m\n\u001b[0;32m   5291\u001b[0m         \u001b[38;5;124mf\u001b[39m\u001b[38;5;124m\"\u001b[39m\u001b[38;5;124mkind, \u001b[39m\u001b[38;5;132;01m{\u001b[39;00m\u001b[38;5;28mrepr\u001b[39m(data)\u001b[38;5;250m \u001b[39m\u001b[38;5;28;01mif\u001b[39;00m\u001b[38;5;250m \u001b[39m\u001b[38;5;129;01mnot\u001b[39;00m\u001b[38;5;250m \u001b[39m\u001b[38;5;28misinstance\u001b[39m(data,\u001b[38;5;250m \u001b[39mnp\u001b[38;5;241m.\u001b[39mgeneric)\u001b[38;5;250m \u001b[39m\u001b[38;5;28;01melse\u001b[39;00m\u001b[38;5;250m \u001b[39m\u001b[38;5;28mstr\u001b[39m(data)\u001b[38;5;132;01m}\u001b[39;00m\u001b[38;5;124m \u001b[39m\u001b[38;5;124m\"\u001b[39m\n\u001b[0;32m   5292\u001b[0m         \u001b[38;5;124m\"\u001b[39m\u001b[38;5;124mwas passed\u001b[39m\u001b[38;5;124m\"\u001b[39m\n\u001b[0;32m   5293\u001b[0m     )\n",
      "\u001b[1;31mTypeError\u001b[0m: Index(...) must be called with a collection of some kind, 18 was passed"
     ]
    }
   ],
   "source": [
    "# new variable named ser5 for 17-20\n",
    "ser5 = pd.Series(17, 18, 19, 20)\n",
    "#  This caused a TypeError because the function requires keyword arguments for data, index, and data type.\n"
   ]
  },
  {
   "cell_type": "markdown",
   "id": "0f7506cd-f182-4104-a128-9358ad1bee1a",
   "metadata": {},
   "source": [
    "# DataFrames from Series"
   ]
  },
  {
   "cell_type": "code",
   "execution_count": null,
   "id": "4f635ead-33c8-4e08-a502-83ff8ce1edfe",
   "metadata": {},
   "outputs": [],
   "source": [
    "# using dataframe for ser1\n",
    "df1 = pd.DataFrame(ser1)\n",
    "df1.columns = ['column 1']\n",
    "df1"
   ]
  },
  {
   "cell_type": "markdown",
   "id": "4f2c8702-086e-411c-9c54-12b4e2a5b15e",
   "metadata": {},
   "source": [
    "# Adding more columns using ser2 and ser3\n",
    "df1.insert(1, 'column 2', ser2)\n",
    "df1.insert(2, 'column 3', ser3)\n",
    "df1"
   ]
  },
  {
   "cell_type": "code",
   "execution_count": null,
   "id": "5eda1253-6495-46d1-96c2-b0aa502f2c2d",
   "metadata": {},
   "outputs": [],
   "source": [
    "df1['column 4'] = ser4.values # added .values to removes NaN values present in column 4\n",
    "df1 "
   ]
  },
  {
   "cell_type": "code",
   "execution_count": null,
   "id": "c3b5ab92-a1c7-4291-9bfc-f5c0605c7e78",
   "metadata": {},
   "outputs": [],
   "source": [
    "df1.loc[4] = [5, 9, 12, 0]\n",
    "df1"
   ]
  },
  {
   "cell_type": "markdown",
   "id": "6cf21887-dffc-4d7c-9b66-6e4a2ab9bb0e",
   "metadata": {},
   "source": [
    "# Reading Data into a Dataframe"
   ]
  },
  {
   "cell_type": "code",
   "execution_count": null,
   "id": "8bb5aed0-a670-429b-8b64-19171cc6ff7f",
   "metadata": {},
   "outputs": [],
   "source": [
    "# df2 to read sakila \n",
    "df2 = pd.read_csv('sakila_example.csv')\n",
    "df2"
   ]
  },
  {
   "cell_type": "code",
   "execution_count": null,
   "id": "d3c43be8-58c1-4920-a734-6ef89d3d2e89",
   "metadata": {},
   "outputs": [],
   "source": [
    "# first top 5 records\n",
    "df2.head(5)"
   ]
  },
  {
   "cell_type": "code",
   "execution_count": null,
   "id": "9fa788ad-cdf1-4be7-9120-6eebaf3b28f0",
   "metadata": {},
   "outputs": [],
   "source": [
    "# last 10 records\n",
    "df2.tail(10)"
   ]
  },
  {
   "cell_type": "code",
   "execution_count": null,
   "id": "1528a463-c44f-428e-9549-16c26c489486",
   "metadata": {},
   "outputs": [],
   "source": [
    "# showing a summary \n",
    "df2.info()"
   ]
  },
  {
   "cell_type": "markdown",
   "id": "3118ded0-95bf-4c3c-830b-fbaa3aac9448",
   "metadata": {},
   "source": [
    "## Info() Results\n",
    "### 262 rows, 5 columns and they're non null values"
   ]
  },
  {
   "cell_type": "code",
   "execution_count": null,
   "id": "ee66f6fe-fb7b-4fa1-baf1-acf200cbabda",
   "metadata": {},
   "outputs": [],
   "source": [
    "#  column stats \n",
    "df2.describe()"
   ]
  },
  {
   "cell_type": "markdown",
   "id": "1acf7c51-e635-4e71-8f4f-40315f169de7",
   "metadata": {},
   "source": [
    "## Describe() results\n",
    "### Only English, most frequent actor is present 8 times, dataset has no missing values in 262 rows"
   ]
  },
  {
   "cell_type": "code",
   "execution_count": null,
   "id": "e4345fc3-e875-46c1-ac59-decfa12ecbb9",
   "metadata": {},
   "outputs": [],
   "source": [
    "# load the csv file\n",
    "df3 = pd.read_csv('northwind_example.csv')\n",
    "df3"
   ]
  },
  {
   "cell_type": "code",
   "execution_count": null,
   "id": "15d64b3a-8904-463f-bd14-d4c6536f3850",
   "metadata": {},
   "outputs": [],
   "source": [
    "# show column stat \n",
    "df3.describe()"
   ]
  },
  {
   "cell_type": "markdown",
   "id": "ac255cfb-5c42-4d40-8d19-71b545a38843",
   "metadata": {},
   "source": [
    "## Describe() results\n",
    "### showing count, mean, std, min and all forms of calc"
   ]
  },
  {
   "cell_type": "markdown",
   "id": "375b6476-7b5a-458b-8172-c70955b80124",
   "metadata": {},
   "source": [
    "# Coding a DataFrame"
   ]
  },
  {
   "cell_type": "code",
   "execution_count": 8,
   "id": "29ace382-21d4-4463-af89-5c57fb54ece4",
   "metadata": {},
   "outputs": [
    {
     "data": {
      "text/html": [
       "<div>\n",
       "<style scoped>\n",
       "    .dataframe tbody tr th:only-of-type {\n",
       "        vertical-align: middle;\n",
       "    }\n",
       "\n",
       "    .dataframe tbody tr th {\n",
       "        vertical-align: top;\n",
       "    }\n",
       "\n",
       "    .dataframe thead th {\n",
       "        text-align: right;\n",
       "    }\n",
       "</style>\n",
       "<table border=\"1\" class=\"dataframe\">\n",
       "  <thead>\n",
       "    <tr style=\"text-align: right;\">\n",
       "      <th></th>\n",
       "      <th>ID</th>\n",
       "      <th>Name</th>\n",
       "      <th>Age</th>\n",
       "      <th>City</th>\n",
       "      <th>Score</th>\n",
       "    </tr>\n",
       "  </thead>\n",
       "  <tbody>\n",
       "    <tr>\n",
       "      <th>0</th>\n",
       "      <td>1</td>\n",
       "      <td>Alicia</td>\n",
       "      <td>25.0</td>\n",
       "      <td>NY</td>\n",
       "      <td>85.0</td>\n",
       "    </tr>\n",
       "    <tr>\n",
       "      <th>1</th>\n",
       "      <td>2</td>\n",
       "      <td>Bob</td>\n",
       "      <td>NaN</td>\n",
       "      <td>LA</td>\n",
       "      <td>92.0</td>\n",
       "    </tr>\n",
       "    <tr>\n",
       "      <th>2</th>\n",
       "      <td>3</td>\n",
       "      <td>Charlie</td>\n",
       "      <td>22.0</td>\n",
       "      <td>Chicago</td>\n",
       "      <td>-1.0</td>\n",
       "    </tr>\n",
       "    <tr>\n",
       "      <th>3</th>\n",
       "      <td>4</td>\n",
       "      <td>Dominic</td>\n",
       "      <td>19.0</td>\n",
       "      <td>Houston</td>\n",
       "      <td>65.0</td>\n",
       "    </tr>\n",
       "    <tr>\n",
       "      <th>4</th>\n",
       "      <td>5</td>\n",
       "      <td>Eve</td>\n",
       "      <td>31.0</td>\n",
       "      <td>Phoenix</td>\n",
       "      <td>78.0</td>\n",
       "    </tr>\n",
       "    <tr>\n",
       "      <th>5</th>\n",
       "      <td>6</td>\n",
       "      <td>Frank</td>\n",
       "      <td>35.0</td>\n",
       "      <td>Boston</td>\n",
       "      <td>NaN</td>\n",
       "    </tr>\n",
       "    <tr>\n",
       "      <th>6</th>\n",
       "      <td>7</td>\n",
       "      <td>Grace</td>\n",
       "      <td>NaN</td>\n",
       "      <td>Austin</td>\n",
       "      <td>55.0</td>\n",
       "    </tr>\n",
       "    <tr>\n",
       "      <th>7</th>\n",
       "      <td>8</td>\n",
       "      <td>Heidi</td>\n",
       "      <td>18.0</td>\n",
       "      <td>San Diego</td>\n",
       "      <td>90.0</td>\n",
       "    </tr>\n",
       "  </tbody>\n",
       "</table>\n",
       "</div>"
      ],
      "text/plain": [
       "   ID     Name   Age       City  Score\n",
       "0   1   Alicia  25.0         NY   85.0\n",
       "1   2      Bob   NaN         LA   92.0\n",
       "2   3  Charlie  22.0    Chicago   -1.0\n",
       "3   4  Dominic  19.0    Houston   65.0\n",
       "4   5      Eve  31.0    Phoenix   78.0\n",
       "5   6    Frank  35.0     Boston    NaN\n",
       "6   7    Grace   NaN     Austin   55.0\n",
       "7   8    Heidi  18.0  San Diego   90.0"
      ]
     },
     "execution_count": 8,
     "metadata": {},
     "output_type": "execute_result"
    }
   ],
   "source": [
    "# test_data \n",
    "test_data = {\n",
    "    'ID': [1, 2, 3, 4, 5, 6, 7, 8],\n",
    "    'Name': ['Alicia', 'Bob', 'Charlie', 'Dominic', 'Eve', 'Frank', 'Grace', 'Heidi'],\n",
    "    'Age': [25, None, 22, 19, 31, 35, None, 18],\n",
    "    'City': ['NY', 'LA', 'Chicago', 'Houston', 'Phoenix', 'Boston', 'Austin', 'San Diego'],\n",
    "    'Score': [85, 92, -1, 65, 78, None, 55, 90]\n",
    "}\n",
    "\n",
    "df4 = pd.DataFrame(test_data)\n",
    "df4\n"
   ]
  },
  {
   "cell_type": "code",
   "execution_count": 10,
   "id": "475e366b-d070-42e7-8d94-1b2cdd679fd1",
   "metadata": {},
   "outputs": [],
   "source": [
    "df4.to_csv('test_data.csv', index = False)"
   ]
  },
  {
   "cell_type": "code",
   "execution_count": null,
   "id": "ddd7309c-ff9e-4c2b-90ae-5cbb49c0504e",
   "metadata": {},
   "outputs": [],
   "source": []
  }
 ],
 "metadata": {
  "kernelspec": {
   "display_name": "Python 3 (ipykernel)",
   "language": "python",
   "name": "python3"
  },
  "language_info": {
   "codemirror_mode": {
    "name": "ipython",
    "version": 3
   },
   "file_extension": ".py",
   "mimetype": "text/x-python",
   "name": "python",
   "nbconvert_exporter": "python",
   "pygments_lexer": "ipython3",
   "version": "3.13.0"
  }
 },
 "nbformat": 4,
 "nbformat_minor": 5
}
