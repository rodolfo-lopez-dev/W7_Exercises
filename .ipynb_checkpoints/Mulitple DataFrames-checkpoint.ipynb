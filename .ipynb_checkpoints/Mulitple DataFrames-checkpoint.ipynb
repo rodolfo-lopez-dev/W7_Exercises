{
 "cells": [
  {
   "cell_type": "code",
   "execution_count": 8,
   "id": "fe23ea39-f97f-48f8-b5da-509042886cb1",
   "metadata": {},
   "outputs": [],
   "source": [
    "import numpy as np\n",
    "import pandas as pd"
   ]
  },
  {
   "cell_type": "markdown",
   "id": "8519a9e7-af37-4854-bfa5-5ecf2b337977",
   "metadata": {},
   "source": [
    "## Basic Aggregations"
   ]
  },
  {
   "cell_type": "code",
   "execution_count": 9,
   "id": "aab92211-5ba3-4387-8286-4bd77007315a",
   "metadata": {},
   "outputs": [],
   "source": [
    "\n",
    "data = {\n",
    "    'Product': ['A', 'B', 'C', 'A', 'B', 'C', 'A', 'B', 'C'],\n",
    "    'Region': ['North', 'South', 'East', 'West', 'North', 'South', 'East', 'West', 'North'],\n",
    "    'Units_Sold': [10, 15, 20, 5, 10, 15, 10, 5, 15],\n",
    "    'Price': [100, 200, 150, 100, 200, 150, 100, 200, 150]\n",
    "}\n",
    "df_sales = pd.DataFrame(data)"
   ]
  },
  {
   "cell_type": "code",
   "execution_count": 10,
   "id": "dd31a698-f91b-4a57-bdfb-f27d9783ba45",
   "metadata": {},
   "outputs": [
    {
     "name": "stdout",
     "output_type": "stream",
     "text": [
      "  Product Region  Units_Sold  Price  Revenue\n",
      "0       A  North          10    100     1000\n",
      "1       B  South          15    200     3000\n",
      "2       C   East          20    150     3000\n",
      "3       A   West           5    100      500\n",
      "4       B  North          10    200     2000\n",
      "5       C  South          15    150     2250\n",
      "6       A   East          10    100     1000\n",
      "7       B   West           5    200     1000\n",
      "8       C  North          15    150     2250\n"
     ]
    }
   ],
   "source": [
    "df_sales['Revenue'] = df_sales['Units_Sold'] * df_sales['Price']\n",
    "print(df_sales)"
   ]
  },
  {
   "cell_type": "code",
   "execution_count": 11,
   "id": "6e62bc1f-09c7-488f-9f62-4376a567f97a",
   "metadata": {},
   "outputs": [
    {
     "name": "stdout",
     "output_type": "stream",
     "text": [
      "Total Units Sold: 105\n",
      "Total Revenue: 16000\n",
      "Average Units Sold: 11.666666666666666\n",
      "Average Revenue: 1777.7777777777778\n"
     ]
    }
   ],
   "source": [
    "total_units = df_sales['Units_Sold'].sum()\n",
    "total_revenue = df_sales['Revenue'].sum()\n",
    "average_units = df_sales['Units_Sold'].mean()\n",
    "average_revenue = df_sales['Revenue'].mean()\n",
    "\n",
    "print(f\"Total Units Sold: {total_units}\")\n",
    "print(f\"Total Revenue: {total_revenue}\")\n",
    "print(f\"Average Units Sold: {average_units}\")\n",
    "print(f\"Average Revenue: {average_revenue}\")"
   ]
  },
  {
   "cell_type": "markdown",
   "id": "92f202de-1b7e-4364-ab99-a87b8a2c2907",
   "metadata": {},
   "source": [
    "## Grouping Data"
   ]
  },
  {
   "cell_type": "code",
   "execution_count": 12,
   "id": "7edc93be-9cd2-445d-bc41-db6e79d9b686",
   "metadata": {},
   "outputs": [
    {
     "name": "stdout",
     "output_type": "stream",
     "text": [
      "         Units_Sold  Revenue\n",
      "Product                     \n",
      "A                25     2500\n",
      "B                30     6000\n",
      "C                50     7500\n"
     ]
    }
   ],
   "source": [
    "product_group = df_sales.groupby('Product').agg({'Units_Sold': 'sum', 'Revenue': 'sum'})\n",
    "print(product_group)"
   ]
  },
  {
   "cell_type": "code",
   "execution_count": 13,
   "id": "d531bdeb-6aac-498f-b826-0fb554d453c6",
   "metadata": {},
   "outputs": [
    {
     "name": "stdout",
     "output_type": "stream",
     "text": [
      "        Units_Sold  Revenue\n",
      "Region                     \n",
      "East     15.000000   2000.0\n",
      "North    11.666667   1750.0\n",
      "South    15.000000   2625.0\n",
      "West      5.000000    750.0\n"
     ]
    }
   ],
   "source": [
    "region_group = df_sales.groupby('Region').agg({'Units_Sold': 'mean', 'Revenue': 'mean'})\n",
    "print(region_group)\n"
   ]
  },
  {
   "cell_type": "code",
   "execution_count": 14,
   "id": "b7460781-e93e-4968-bb9f-c5ae259ef768",
   "metadata": {},
   "outputs": [
    {
     "name": "stdout",
     "output_type": "stream",
     "text": [
      "                Units_Sold  Revenue\n",
      "Product Region                     \n",
      "A       East            10     1000\n",
      "        North           10     1000\n",
      "        West             5      500\n",
      "B       North           10     2000\n",
      "        South           15     3000\n",
      "        West             5     1000\n",
      "C       East            20     3000\n",
      "        North           15     2250\n",
      "        South           15     2250\n"
     ]
    }
   ],
   "source": [
    "product_region_group = df_sales.groupby(['Product', 'Region']).agg({'Units_Sold': 'sum', 'Revenue': 'sum'})\n",
    "print(product_region_group)\n"
   ]
  },
  {
   "cell_type": "markdown",
   "id": "37af0b5f-e2d1-4b0b-8670-db18319c4208",
   "metadata": {},
   "source": [
    "## Sorting and Ranking Data"
   ]
  },
  {
   "cell_type": "code",
   "execution_count": 15,
   "id": "bfeb884f-b282-4f4f-9ba2-f70f2c5f7b63",
   "metadata": {},
   "outputs": [
    {
     "name": "stdout",
     "output_type": "stream",
     "text": [
      "  Product Region  Units_Sold  Price  Revenue\n",
      "3       A   West           5    100      500\n",
      "7       B   West           5    200     1000\n",
      "4       B  North          10    200     2000\n",
      "0       A  North          10    100     1000\n",
      "6       A   East          10    100     1000\n",
      "1       B  South          15    200     3000\n",
      "5       C  South          15    150     2250\n",
      "8       C  North          15    150     2250\n",
      "2       C   East          20    150     3000\n"
     ]
    }
   ],
   "source": [
    "sorted_units = df_sales.sort_values(by='Units_Sold', ascending=True)\n",
    "print(sorted_units)"
   ]
  },
  {
   "cell_type": "code",
   "execution_count": 16,
   "id": "3565c3f8-df65-4844-868a-d2c39b0dc336",
   "metadata": {},
   "outputs": [
    {
     "name": "stdout",
     "output_type": "stream",
     "text": [
      "  Product Region  Units_Sold  Price  Revenue\n",
      "1       B  South          15    200     3000\n",
      "2       C   East          20    150     3000\n",
      "8       C  North          15    150     2250\n",
      "5       C  South          15    150     2250\n",
      "4       B  North          10    200     2000\n",
      "0       A  North          10    100     1000\n",
      "6       A   East          10    100     1000\n",
      "7       B   West           5    200     1000\n",
      "3       A   West           5    100      500\n"
     ]
    }
   ],
   "source": [
    "sorted_revenue = df_sales.sort_values(by='Revenue', ascending=False)\n",
    "print(sorted_revenue)\n"
   ]
  },
  {
   "cell_type": "code",
   "execution_count": 17,
   "id": "dc673387-8468-4b7b-b307-e03228dd6a45",
   "metadata": {},
   "outputs": [
    {
     "name": "stdout",
     "output_type": "stream",
     "text": [
      "  Product Region  Units_Sold  Price  Revenue  Revenue_Rank\n",
      "0       A  North          10    100     1000           7.0\n",
      "1       B  South          15    200     3000           1.5\n",
      "2       C   East          20    150     3000           1.5\n",
      "3       A   West           5    100      500           9.0\n",
      "4       B  North          10    200     2000           5.0\n",
      "5       C  South          15    150     2250           3.5\n",
      "6       A   East          10    100     1000           7.0\n",
      "7       B   West           5    200     1000           7.0\n",
      "8       C  North          15    150     2250           3.5\n"
     ]
    }
   ],
   "source": [
    "df_sales['Revenue_Rank'] = df_sales['Revenue'].rank(ascending=False)\n",
    "print(df_sales)\n"
   ]
  },
  {
   "cell_type": "markdown",
   "id": "cea4e8a5-7199-44d6-a40c-badeb1816c64",
   "metadata": {},
   "source": [
    "## Merging DataFrames"
   ]
  },
  {
   "cell_type": "code",
   "execution_count": 19,
   "id": "2a774063-25a0-4515-9164-cf658696bae1",
   "metadata": {},
   "outputs": [],
   "source": [
    "product_data = {\n",
    "    'Product': ['A', 'B', 'C'],\n",
    "    'Category': ['Electronics', 'Furniture', 'Appliances']\n",
    "}\n",
    "df_products = pd.DataFrame(product_data)"
   ]
  },
  {
   "cell_type": "code",
   "execution_count": 20,
   "id": "7c779d31-e800-49b7-ad18-555f709929ac",
   "metadata": {},
   "outputs": [
    {
     "name": "stdout",
     "output_type": "stream",
     "text": [
      "  Product Region  Units_Sold  Price  Revenue  Revenue_Rank     Category\n",
      "0       A  North          10    100     1000           7.0  Electronics\n",
      "1       B  South          15    200     3000           1.5    Furniture\n",
      "2       C   East          20    150     3000           1.5   Appliances\n",
      "3       A   West           5    100      500           9.0  Electronics\n",
      "4       B  North          10    200     2000           5.0    Furniture\n",
      "5       C  South          15    150     2250           3.5   Appliances\n",
      "6       A   East          10    100     1000           7.0  Electronics\n",
      "7       B   West           5    200     1000           7.0    Furniture\n",
      "8       C  North          15    150     2250           3.5   Appliances\n"
     ]
    }
   ],
   "source": [
    "df_merged = pd.merge(df_sales, df_products, on='Product')\n",
    "print(df_merged)\n"
   ]
  },
  {
   "cell_type": "code",
   "execution_count": 21,
   "id": "921b569f-eb59-4ae5-a80b-456fbf62cd90",
   "metadata": {},
   "outputs": [
    {
     "name": "stdout",
     "output_type": "stream",
     "text": [
      "             Revenue\n",
      "Category            \n",
      "Appliances      7500\n",
      "Electronics     2500\n",
      "Furniture       6000\n"
     ]
    }
   ],
   "source": [
    "category_group = df_merged.groupby('Category').agg({'Revenue': 'sum'})\n",
    "print(category_group)\n"
   ]
  },
  {
   "cell_type": "code",
   "execution_count": null,
   "id": "0586cc26-041f-4247-8b29-06dfacfe3d0e",
   "metadata": {},
   "outputs": [],
   "source": []
  }
 ],
 "metadata": {
  "kernelspec": {
   "display_name": "Python 3 (ipykernel)",
   "language": "python",
   "name": "python3"
  },
  "language_info": {
   "codemirror_mode": {
    "name": "ipython",
    "version": 3
   },
   "file_extension": ".py",
   "mimetype": "text/x-python",
   "name": "python",
   "nbconvert_exporter": "python",
   "pygments_lexer": "ipython3",
   "version": "3.13.0"
  }
 },
 "nbformat": 4,
 "nbformat_minor": 5
}
