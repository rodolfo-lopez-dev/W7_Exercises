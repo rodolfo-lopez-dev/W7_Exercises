{
 "cells": [
  {
   "cell_type": "code",
   "execution_count": 54,
   "id": "76106929-58d9-4988-a7b2-40347c23c848",
   "metadata": {},
   "outputs": [],
   "source": [
    "import numpy as np"
   ]
  },
  {
   "cell_type": "markdown",
   "id": "2c296ac2-5eb4-4b1f-b87c-93fce03ecea6",
   "metadata": {},
   "source": [
    "# Generating Random Numbers"
   ]
  },
  {
   "cell_type": "code",
   "execution_count": 55,
   "id": "9bf8d4e4-b23e-4b3d-ae15-4b2f0cb308b4",
   "metadata": {},
   "outputs": [
    {
     "name": "stdout",
     "output_type": "stream",
     "text": [
      "r_1: [ 7 17]\n"
     ]
    }
   ],
   "source": [
    "# random set of int between 1 and 20 \n",
    "r_1 = np.random.randint(1, 21, size = 2)\n",
    "print(\"r_1:\", r_1)"
   ]
  },
  {
   "cell_type": "code",
   "execution_count": 56,
   "id": "868ff0f7-28bf-4cee-b49b-602cf477b7ee",
   "metadata": {},
   "outputs": [
    {
     "name": "stdout",
     "output_type": "stream",
     "text": [
      "r_2: [[19  3]]\n"
     ]
    }
   ],
   "source": [
    "# same as above with 2 columns\n",
    "r_2 = np.random.randint(1, 21, size = (1, 2))\n",
    "print(\"r_2:\", r_2)"
   ]
  },
  {
   "cell_type": "code",
   "execution_count": 57,
   "id": "f577ff6b-99b8-4ecd-9494-d6a5e2287e7b",
   "metadata": {},
   "outputs": [
    {
     "name": "stdout",
     "output_type": "stream",
     "text": [
      "r_3: [[0.26659267]\n",
      " [0.45689406]]\n"
     ]
    }
   ],
   "source": [
    "# random float within 2 rows 1 column\n",
    "r_3 = np.random.rand(2, 1)\n",
    "print(\"r_3:\", r_3)"
   ]
  },
  {
   "cell_type": "code",
   "execution_count": 58,
   "id": "8e4c8bd0-fa1f-4148-a917-65b382ddba40",
   "metadata": {},
   "outputs": [
    {
     "name": "stdout",
     "output_type": "stream",
     "text": [
      "r_4: [[65 39 97 79 61]\n",
      " [99 78 67 60 83]\n",
      " [22 31 61 76 96]\n",
      " [33 87 71 31 20]]\n"
     ]
    }
   ],
   "source": [
    "# random int between 20 - 100 and 4 rows and 5 columns\n",
    "r_4 = np.random.randint(20, 101, size = (4, 5))\n",
    "print(\"r_4:\", r_4)"
   ]
  },
  {
   "cell_type": "code",
   "execution_count": 59,
   "id": "9ab53c9c-d15d-4353-b44b-3280c42248dc",
   "metadata": {},
   "outputs": [
    {
     "name": "stdout",
     "output_type": "stream",
     "text": [
      "r_5: [[0.92535319 0.61371615 0.01778553 0.57903335 0.75287367]\n",
      " [0.94250462 0.19462482 0.46669774 0.51983933 0.93757115]\n",
      " [0.4803043  0.71235087 0.04496965 0.63774046 0.72346324]\n",
      " [0.75014219 0.31750011 0.23169989 0.48760424 0.94585855]]\n"
     ]
    }
   ],
   "source": [
    "# random floats between 0 and 1, 4 rows and 5 columns\n",
    "r_5 = np.random.rand(4, 5)\n",
    "print(\"r_5:\", r_5)"
   ]
  },
  {
   "cell_type": "markdown",
   "id": "e9c03647-5f3f-4a02-bef3-468ed45989f4",
   "metadata": {},
   "source": [
    "# Generating Random Choices from an Array"
   ]
  },
  {
   "cell_type": "code",
   "execution_count": 60,
   "id": "3099e67f-0a2b-4c00-89f4-66e980fc550c",
   "metadata": {},
   "outputs": [],
   "source": [
    "students = np.array(['Vieri', 'Jacob', 'Mohammad', 'Armando', 'Craig', 'Anthony', 'Symone', 'Jen', 'Zainab', 'Vanessa', 'Hassan', 'Fadil'])"
   ]
  },
  {
   "cell_type": "code",
   "execution_count": 61,
   "id": "5f14fda5-05ae-475a-a3db-0133ec2cb968",
   "metadata": {},
   "outputs": [
    {
     "name": "stdout",
     "output_type": "stream",
     "text": [
      "Random selection: Vieri\n"
     ]
    }
   ],
   "source": [
    "# random selection using choice\n",
    "call_on = np.random.choice(students)\n",
    "print(\"Random selection:\", call_on)"
   ]
  },
  {
   "cell_type": "code",
   "execution_count": 62,
   "id": "bfc5f624-0197-4eba-8858-39176beeb22a",
   "metadata": {},
   "outputs": [
    {
     "name": "stdout",
     "output_type": "stream",
     "text": [
      "Breakout groups:\n",
      "[['Vieri' 'Armando' 'Armando' 'Vanessa']\n",
      " ['Anthony' 'Hassan' 'Anthony' 'Hassan']\n",
      " ['Jacob' 'Hassan' 'Armando' 'Armando']]\n"
     ]
    }
   ],
   "source": [
    "# random sample \n",
    "breakout_groups = np.random.choice(students, size = (3, 4))\n",
    "print(\"Breakout groups:\")\n",
    "print(breakout_groups) # in terms of keeping it equal, yes it's effective unless they would wish to place themselves in groups"
   ]
  },
  {
   "cell_type": "code",
   "execution_count": 63,
   "id": "32a244b0-e055-4db3-83fd-a55ce60ae193",
   "metadata": {},
   "outputs": [
    {
     "name": "stdout",
     "output_type": "stream",
     "text": [
      "Sum of probabilities: 1.0\n",
      "Weighted random selections: ['Vieri' 'Hassan' 'Mohammad' 'Vieri' 'Armando']\n"
     ]
    }
   ],
   "source": [
    "# probabilities list\n",
    "probabilities = [0.1, 0.05, 0.08, 0.07, 0.05, 0.1, 0.1, 0.05, 0.05, 0.05, 0.3, 0]\n",
    "\n",
    "# Ensure the probabilities sum to 1\n",
    "print(\"Sum of probabilities:\", sum(probabilities))  # Should print 1.0\n",
    "\n",
    "# Weighted random selection\n",
    "call_on_weighted = np.random.choice(students, size = 5, p = probabilities)\n",
    "print(\"Weighted random selections:\", call_on_weighted)\n"
   ]
  },
  {
   "cell_type": "markdown",
   "id": "733c5038-cf17-4085-b1de-13c5b4ab98db",
   "metadata": {},
   "source": [
    "# Generating a Normal Distribution"
   ]
  },
  {
   "cell_type": "code",
   "execution_count": 64,
   "id": "a3ef47fe-d8f1-4ce2-ac94-5731e200c5f8",
   "metadata": {},
   "outputs": [
    {
     "name": "stdout",
     "output_type": "stream",
     "text": [
      "Bell curve:\n",
      "[[13.13599399 14.34088876  9.32732897 12.80646007  6.73754886]\n",
      " [ 3.02778888  3.30869449 11.15319127 15.73646646  3.21705382]\n",
      " [ 0.32481886  7.7491443   6.62801614 12.79622377 18.01466446]\n",
      " [16.96095939  7.53996731  2.76798439 14.47326535  6.07364791]]\n"
     ]
    }
   ],
   "source": [
    "# mean = 10, stdv = 5 and size 4 rows by 5 columns\n",
    "bell_curve = np.random.normal(loc = 10, scale = 5, size = (4, 5))\n",
    "print(\"Bell curve:\")\n",
    "print(bell_curve)"
   ]
  },
  {
   "cell_type": "code",
   "execution_count": null,
   "id": "a784b749-b3be-4b76-a2e4-0a2fa14946db",
   "metadata": {},
   "outputs": [],
   "source": []
  }
 ],
 "metadata": {
  "kernelspec": {
   "display_name": "Python 3 (ipykernel)",
   "language": "python",
   "name": "python3"
  },
  "language_info": {
   "codemirror_mode": {
    "name": "ipython",
    "version": 3
   },
   "file_extension": ".py",
   "mimetype": "text/x-python",
   "name": "python",
   "nbconvert_exporter": "python",
   "pygments_lexer": "ipython3",
   "version": "3.13.0"
  }
 },
 "nbformat": 4,
 "nbformat_minor": 5
}
