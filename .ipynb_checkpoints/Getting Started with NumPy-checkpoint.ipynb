{
 "cells": [
  {
   "cell_type": "code",
   "execution_count": 1,
   "id": "9a7995e7-9c0d-42e0-aecb-c399a7a61625",
   "metadata": {},
   "outputs": [],
   "source": [
    "import numpy as np"
   ]
  },
  {
   "cell_type": "markdown",
   "id": "5868188e-b6ca-403a-8507-cf9a4e7a545d",
   "metadata": {},
   "source": [
    "# Array Basics"
   ]
  },
  {
   "cell_type": "code",
   "execution_count": 2,
   "id": "f482c85f-c725-47ac-84f6-9b231bb2e5f5",
   "metadata": {},
   "outputs": [],
   "source": [
    "fruits = ['apple','banana','cherry','date']"
   ]
  },
  {
   "cell_type": "code",
   "execution_count": 3,
   "id": "8978a2f2-55fd-4a7c-acb0-3c5f29ae1c1c",
   "metadata": {},
   "outputs": [
    {
     "name": "stdout",
     "output_type": "stream",
     "text": [
      "['apple' 'banana' 'cherry' 'date']\n"
     ]
    }
   ],
   "source": [
    "arr_1 = np.array(fruits)\n",
    "print(arr_1)"
   ]
  },
  {
   "cell_type": "code",
   "execution_count": 5,
   "id": "993f6210-f338-48db-a0e4-38869dc9ecc7",
   "metadata": {},
   "outputs": [
    {
     "name": "stdout",
     "output_type": "stream",
     "text": [
      "<U6\n"
     ]
    }
   ],
   "source": [
    "print(arr_1.dtype) # Output was <U6; suggests the string is apart 6 characters"
   ]
  },
  {
   "cell_type": "code",
   "execution_count": null,
   "id": "b324b569-0e84-4746-90bf-e70d5be77bd0",
   "metadata": {},
   "outputs": [],
   "source": [
    "I"
   ]
  }
 ],
 "metadata": {
  "kernelspec": {
   "display_name": "Python 3 (ipykernel)",
   "language": "python",
   "name": "python3"
  },
  "language_info": {
   "codemirror_mode": {
    "name": "ipython",
    "version": 3
   },
   "file_extension": ".py",
   "mimetype": "text/x-python",
   "name": "python",
   "nbconvert_exporter": "python",
   "pygments_lexer": "ipython3",
   "version": "3.13.0"
  }
 },
 "nbformat": 4,
 "nbformat_minor": 5
}
